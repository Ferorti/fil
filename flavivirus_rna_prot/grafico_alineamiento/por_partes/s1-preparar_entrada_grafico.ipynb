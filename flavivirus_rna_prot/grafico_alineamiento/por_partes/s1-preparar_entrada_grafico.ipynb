{
 "cells": [
  {
   "cell_type": "code",
   "execution_count": 1,
   "metadata": {},
   "outputs": [],
   "source": [
    "import pandas as pd\n",
    "import numpy as np"
   ]
  },
  {
   "cell_type": "code",
   "execution_count": 2,
   "metadata": {},
   "outputs": [],
   "source": [
    "archivo_entrada = \"/home/fernando/git/ag/zona_A/entrada\"\n",
    "#carga como df del archivo de entrada, el cual debe tener el formato:\n",
    "entrada_df= pd.read_table(archivo_entrada)\n",
    "\n",
    "#agrego cuatro columnas con las posiciones iniciales y finales para los hits de proteina y rna.\n",
    "#primero busca con un rfind, y luego a ese numero le suma el largo del hit.\n",
    "entrada_df[\"prot_hit_s\"] = entrada_df[[\"prot_seq\", \"prot_hit\"]].apply(lambda x: x[0].find(x[1]), axis=1)\n",
    "entrada_df[\"prot_hit_e\"] = entrada_df[[\"prot_hit\", \"prot_hit_s\"]].apply(lambda x: len(x[0]) + x[1], axis=1)\n",
    "entrada_df[\"rna_hit_s\"] = entrada_df[[\"rna_seq\", \"rna_hit\"]].apply(lambda x: x[0].find(x[1]), axis=1)\n",
    "entrada_df[\"rna_hit_e\"] = entrada_df[[\"rna_hit\", \"rna_hit_s\"]].apply(lambda x: len(x[0]) + x[1], axis=1)\n",
    "\n",
    "\n",
    "#subset y separacion de tabla inicial en proteina y rna\n",
    "prot_df = entrada_df[[\"sp\", \"prot_seq\", \"prot_hit_s\", \"prot_hit_e\"]]\n",
    "rna_df = entrada_df[[\"sp\", \"rna_seq\", \"rna_hit_s\", \"rna_hit_e\"]]\n"
   ]
  },
  {
   "cell_type": "markdown",
   "metadata": {},
   "source": [
    "Reformateo los data frame para obtener un df (para cada uno) con el formato necesario para ggplot,\n",
    "esto es una residuo o nucleotido por fila, y una columna color donde 1 es que esa posicion es un hit."
   ]
  },
  {
   "cell_type": "code",
   "execution_count": 3,
   "metadata": {},
   "outputs": [
    {
     "name": "stderr",
     "output_type": "stream",
     "text": [
      "/home/fernando/.local/lib/python2.7/site-packages/ipykernel_launcher.py:12: SettingWithCopyWarning: \n",
      "A value is trying to be set on a copy of a slice from a DataFrame\n",
      "\n",
      "See the caveats in the documentation: http://pandas.pydata.org/pandas-docs/stable/indexing.html#indexing-view-versus-copy\n",
      "  if sys.path[0] == '':\n"
     ]
    }
   ],
   "source": [
    "# Proteina\n",
    "prot_df_salida = pd.DataFrame()\n",
    "for i in range(len(prot_df)):\n",
    "    virus = prot_df.iloc[i, 0]\n",
    "    n_virus = i + 1\n",
    "    seq_list = list(prot_df.iloc[i, 1])\n",
    "    l = len(prot_df.iloc[i, 1])\n",
    "    hit_s = prot_df.iloc[i, 2]\n",
    "    hit_e = prot_df.iloc[i, 3]\n",
    "    x = range(1,l + 1)\n",
    "    tmp = pd.DataFrame({\"x\": x, \"sp_id\": [n_virus] * l, \"sp\": [virus] * l, \"seq\": seq_list, \"color\": [0] * l})\n",
    "    tmp[\"color\"][hit_s:hit_e] = [1] * (hit_e - hit_s)\n",
    "    prot_df_salida = pd.concat([prot_df_salida, tmp])"
   ]
  },
  {
   "cell_type": "code",
   "execution_count": 4,
   "metadata": {},
   "outputs": [
    {
     "name": "stderr",
     "output_type": "stream",
     "text": [
      "/home/fernando/.local/lib/python2.7/site-packages/ipykernel_launcher.py:16: SettingWithCopyWarning: \n",
      "A value is trying to be set on a copy of a slice from a DataFrame\n",
      "\n",
      "See the caveats in the documentation: http://pandas.pydata.org/pandas-docs/stable/indexing.html#indexing-view-versus-copy\n",
      "  app.launch_new_instance()\n"
     ]
    }
   ],
   "source": [
    "# RNA\n",
    "rna_df_salida = pd.DataFrame()\n",
    "for i in range(len(rna_df)):\n",
    "    virus = rna_df.iloc[i, 0]\n",
    "    n_virus = i + 1\n",
    "    seq_list = list(rna_df.iloc[i, 1])\n",
    "    l = len(rna_df.iloc[i, 1])\n",
    "    l_aa = l / 3\n",
    "    x_rna = np.array([])\n",
    "    hit_s = rna_df.iloc[i, 2]\n",
    "    hit_e = rna_df.iloc[i, 3]\n",
    "    for e in range(l_aa + 1):\n",
    "        x_rna = np.append(x_rna, np.array([1.25, 1.5, 1.75]) + e)\n",
    "    x_rna = x_rna[:l]\n",
    "    tmp = pd.DataFrame({\"x\": x_rna, \"sp_id\": [n_virus] * l, \"sp\": [virus] * l, \"seq\": seq_list, \"color\": [0] * l})\n",
    "    tmp[\"color\"][hit_s:hit_e] = [2] * (hit_e - hit_s)\n",
    "    rna_df_salida = pd.concat([rna_df_salida, tmp])"
   ]
  },
  {
   "cell_type": "code",
   "execution_count": 5,
   "metadata": {},
   "outputs": [],
   "source": [
    "#reordenar las columnas\n",
    "prot_df_salida = prot_df_salida[[\"sp\", \"sp_id\", \"x\", \"seq\", \"color\"]]\n",
    "rna_df_salida = rna_df_salida[[\"sp\", \"sp_id\", \"x\", \"seq\", \"color\"]]\n",
    "\n",
    "prot_df_salida.to_csv(\"//home/fernando/git/ag/zona_A/aa.csv\", index=False)\n",
    "rna_df_salida.to_csv(\"/home/fernando/git/ag/zona_A/rna.csv\", index=False)\n"
   ]
  },
  {
   "cell_type": "code",
   "execution_count": null,
   "metadata": {},
   "outputs": [],
   "source": []
  },
  {
   "cell_type": "code",
   "execution_count": null,
   "metadata": {},
   "outputs": [],
   "source": []
  }
 ],
 "metadata": {
  "kernelspec": {
   "display_name": "Python 2",
   "language": "python",
   "name": "python2"
  },
  "language_info": {
   "codemirror_mode": {
    "name": "ipython",
    "version": 2
   },
   "file_extension": ".py",
   "mimetype": "text/x-python",
   "name": "python",
   "nbconvert_exporter": "python",
   "pygments_lexer": "ipython2",
   "version": "2.7.14"
  }
 },
 "nbformat": 4,
 "nbformat_minor": 2
}
